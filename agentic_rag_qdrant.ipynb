{
 "cells": [
  {
   "cell_type": "code",
   "execution_count": 27,
   "id": "8fa2f7d8",
   "metadata": {},
   "outputs": [],
   "source": [
    "import os\n",
    "import json\n",
    "from typing import Annotated, TypedDict\n",
    "from dotenv import load_dotenv\n",
    "from langchain.embeddings import HuggingFaceEmbeddings\n",
    "from langgraph.graph import StateGraph, START, END\n",
    "from langgraph.prebuilt import ToolNode, tools_condition\n",
    "from langchain_core.tools import tool\n",
    "from langchain_core.messages import ToolMessage\n",
    "from langgraph.graph.message import add_messages\n",
    "from langchain.document_loaders import HuggingFaceDatasetLoader\n",
    "from langchain.text_splitter import RecursiveCharacterTextSplitter\n",
    "from langchain_openai import ChatOpenAI\n",
    "from qdrant_client import QdrantClient\n",
    "from qdrant_client.http.models import VectorParams"
   ]
  },
  {
   "cell_type": "code",
   "execution_count": 11,
   "id": "3270d08e",
   "metadata": {},
   "outputs": [],
   "source": [
    "load_dotenv()\n",
    "qdrant_key = os.getenv(\"QDRANT_KEY\")\n",
    "qdrant_url = os.getenv(\"QDRANT_URL\")"
   ]
  },
  {
   "cell_type": "code",
   "execution_count": 12,
   "id": "9f37b56b",
   "metadata": {},
   "outputs": [],
   "source": [
    "def preprocess_dataset(docs_list):\n",
    "    text_splitter = RecursiveCharacterTextSplitter.from_tiktoken_encoder(\n",
    "        chunk_size=700,\n",
    "        chunk_overlap=50,\n",
    "        disallowed_special=()\n",
    "    )\n",
    "    doc_splits = text_splitter.split_documents(docs_list)\n",
    "    return doc_splits"
   ]
  },
  {
   "cell_type": "code",
   "execution_count": 13,
   "id": "18c94d35",
   "metadata": {},
   "outputs": [],
   "source": [
    "hugging_face_doc = HuggingFaceDatasetLoader(\"m-ric/huggingface_doc\",\"text\")\n",
    "transformers_doc = HuggingFaceDatasetLoader(\"m-ric/transformers_documentation_en\",\"text\")"
   ]
  },
  {
   "cell_type": "code",
   "execution_count": null,
   "id": "ea830cff",
   "metadata": {},
   "outputs": [],
   "source": [
    "number_of_docs=50\n",
    "hf_splits = preprocess_dataset(hugging_face_doc.load()[:number_of_docs])\n",
    "transformer_splits = preprocess_dataset(transformers_doc.load()[:number_of_docs])"
   ]
  },
  {
   "cell_type": "markdown",
   "id": "c41ec0a8",
   "metadata": {},
   "source": [
    "# Agent"
   ]
  },
  {
   "cell_type": "code",
   "execution_count": 17,
   "id": "b573f7c6",
   "metadata": {},
   "outputs": [],
   "source": [
    "class State(TypedDict):\n",
    "    messages: Annotated[list, add_messages]"
   ]
  },
  {
   "cell_type": "code",
   "execution_count": null,
   "id": "19f2d233",
   "metadata": {},
   "outputs": [],
   "source": [
    "from langchain_qdrant import QdrantVectorStore\n",
    "\n",
    "def create_retriever(collection_name, doc_splits):\n",
    "    vectorstore = QdrantVectorStore.from_documents(\n",
    "        doc_splits,\n",
    "        HuggingFaceEmbeddings(model_name=\"sentence-transformers/all-MiniLM-L6-v2\"),\n",
    "        url=qdrant_url,\n",
    "        api_key=qdrant_key,\n",
    "        collection_name=collection_name,\n",
    "    )\n",
    "    return vectorstore.as_retriever()\n",
    "\n",
    "hf_retriever = create_retriever(\"huggingface_doc\", hf_splits)\n",
    "transformer_retriever = create_retriever(\"transformers_doc\", transformer_splits)"
   ]
  },
  {
   "cell_type": "code",
   "execution_count": 21,
   "id": "be661718",
   "metadata": {},
   "outputs": [],
   "source": [
    "from langchain_core.tools.retriever import create_retriever_tool\n",
    "\n",
    "hf_retriever_tool = create_retriever_tool(\n",
    "    hf_retriever,\n",
    "    \"retriever_hugging_face_documentation\",\n",
    "    \"Search and return information about hugging face documentation, it includes the guide and Python code.\",\n",
    ")\n",
    "\n",
    "transformer_retriever_tool = create_retriever_tool(\n",
    "    transformer_retriever,\n",
    "    \"retriever_transformer\",\n",
    "    \"Search and return information specifically about transformers library\",\n",
    ")"
   ]
  },
  {
   "cell_type": "code",
   "execution_count": 23,
   "id": "063f64cf",
   "metadata": {},
   "outputs": [],
   "source": [
    "from langchain_tavily import TavilySearch\n",
    "tools = [hf_retriever_tool, transformer_retriever_tool, TavilySearch(max_results=1)]\n",
    "\n",
    "inference_server_url = \"http://localhost:8000/v1\"\n",
    "\n",
    "llm = ChatOpenAI(\n",
    "    model=\"unsloth/Qwen3-14B-unsloth-bnb-4bit\",\n",
    "    openai_api_key=\"binhphap5\",\n",
    "    openai_api_base=inference_server_url,\n",
    "    max_tokens=1024,\n",
    "    temperature=0.6,\n",
    "    top_p=0.95,\n",
    ").bind_tools(tools=tools, tool_choice=\"auto\")"
   ]
  },
  {
   "cell_type": "code",
   "execution_count": 28,
   "id": "fae3d116",
   "metadata": {},
   "outputs": [],
   "source": [
    "def call_model(\n",
    "    state: State\n",
    "):\n",
    "    response = llm.invoke(state[\"messages\"])\n",
    "    # We return a list, because this will get added to the existing list\n",
    "    return {\"messages\": [response]}\n",
    "\n",
    "# Define a new graph\n",
    "workflow = StateGraph(State)\n",
    "\n",
    "# Define the two nodes we will cycle between\n",
    "workflow.add_node(\"agent\", call_model)\n",
    "workflow.add_node(\"tools\", ToolNode(tools))\n",
    "\n",
    "# Set the entrypoint as agent. This means that this node is the first one called \n",
    "workflow.add_edge(START, \"agent\")\n",
    "\n",
    "# We now add a conditional edge\n",
    "workflow.add_conditional_edges(\n",
    "    # First, we define the start node. We use 'agent'.\n",
    "    # This means these are the edges taken after the 'agent' node is called.\n",
    "    \"agent\",\n",
    "    # Next, we pass in the function that will determine which node is called next\n",
    "    tools_condition,\n",
    ")\n",
    "\n",
    "# We now add a normal edge from 'tools' to 'agent'.\n",
    "# This means that after 'tools' is called, 'agent' node is called next.\n",
    "workflow.add_edge(\"tools\", \"agent\")\n",
    "\n",
    "# Now we can compile and visualize our graph\n",
    "graph = workflow.compile()"
   ]
  },
  {
   "cell_type": "code",
   "execution_count": 29,
   "id": "80b120aa",
   "metadata": {},
   "outputs": [
    {
     "data": {
      "image/png": "[encoded data removed]",
      "text/plain": [
       "<langgraph.graph.state.CompiledStateGraph object at 0x7f7065062290>"
      ]
     },
     "execution_count": 29,
     "metadata": {},
     "output_type": "execute_result"
    }
   ],
   "source": [
    "graph"
   ]
  },
  {
   "cell_type": "markdown",
   "id": "f18906ef",
   "metadata": {},
   "source": [
    "# Run"
   ]
  },
  {
   "cell_type": "code",
   "execution_count": 47,
   "id": "4f280297",
   "metadata": {},
   "outputs": [],
   "source": [
    "from langchain_core.messages import SystemMessage, HumanMessage\n",
    "system_prompt = SystemMessage(\n",
    "    \"\"\"\n",
    "    You are a reasoning agent designed to solve problems by selecting and using tools when needed.\n",
    "\n",
    "    You have access to the following tools:\n",
    "    - retriever_transformer: Search and return information specifically about transformers library.\n",
    "    - retriever_hugging_face_documentation: Search and return information about hugging face documentation, it includes the guide and Python code.\n",
    "    - tavily_search: Search and return information about current events.\n",
    "\n",
    "    Your job is to:\n",
    "    1. Think step-by-step about how to solve the user's request.\n",
    "    2. If a tool is needed, decide **which tool** is best and provide the **correct arguments** for it.\n",
    "\n",
    "    The system will automatically call the tool for you — you do not need to write code or JSON.\n",
    "    Just make sure to:\n",
    "    - Select the correct tool.\n",
    "    - Provide the correct arguments (matching the function schema).\n",
    "    - Only request one tool at a time.\n",
    "    - After receiving the result, continue provide your thought about the previous result.\n",
    "\n",
    "    Once you have enough information, respond with:\n",
    "\n",
    "    Final Answer: <your final answer here>\n",
    "\n",
    "    Be precise, concise, and always follow this reasoning loop:\n",
    "    Thought → [Tool Call if needed] → Observation → Repeat or Final Answer.\n",
    "    \"\"\"\n",
    ")"
   ]
  },
  {
   "cell_type": "code",
   "execution_count": 48,
   "id": "e0febd65",
   "metadata": {},
   "outputs": [],
   "source": [
    "def run_agent(user_input: str, is_thinking: bool = False):\n",
    "    if not is_thinking:\n",
    "        user_input = user_input + \" /no_think\"\n",
    "    for event in graph.stream({\"messages\": [{\"type\": \"system\", \"content\": system_prompt.content}, {\"type\": \"human\", \"content\": user_input}]}, stream_mode=\"values\"):\n",
    "        last_message = event[\"messages\"][-1]\n",
    "        last_message.pretty_print()"
   ]
  },
  {
   "cell_type": "code",
   "execution_count": 51,
   "id": "6ad76d62",
   "metadata": {},
   "outputs": [
    {
     "name": "stdout",
     "output_type": "stream",
     "text": [
      "================================\u001b[1m Human Message \u001b[0m=================================\n",
      "\n",
      "Wha is PhoBERT ? Who is behind that model, is there any variant of PhoBERT ? /no_think\n",
      "==================================\u001b[1m Ai Message \u001b[0m==================================\n",
      "\n",
      "<think>\n",
      "\n",
      "</think>\n",
      "\n",
      "Thought: I need to find information about PhoBERT, including who developed it and if there are any variants. I will use the retriever_hugging_face_documentation tool to search for this information.\n",
      "Tool Calls:\n",
      "  retriever_hugging_face_documentation (chatcmpl-tool-2c00cccc277a4f08abb9af56d4b49fab)\n",
      " Call ID: chatcmpl-tool-2c00cccc277a4f08abb9af56d4b49fab\n",
      "  Args:\n",
      "    query: PhoBERT model, who is behind it, variants of PhoBERT\n",
      "=================================\u001b[1m Tool Message \u001b[0m=================================\n",
      "Name: retriever_hugging_face_documentation\n",
      "\n",
      "by Yuanzhi Li, S\\u00e9bastien Bubeck, Ronen Eldan, Allie Del Giorno, Suriya Gunasekar and Yin Tat Lee.\\n1. **[PhoBERT](https://huggingface.co/docs/transformers/model_doc/phobert)** (from VinAI Research) released with the paper [PhoBERT: Pre-trained language models for Vietnamese](https://www.aclweb.org/anthology/2020.findings-emnlp.92/) by Dat Quoc Nguyen and Anh Tuan Nguyen.\\n1. **[Pix2Struct](https://huggingface.co/docs/transformers/model_doc/pix2struct)** (from Google) released with the paper [Pix2Struct: Screenshot Parsing as Pretraining for Visual Language Understanding](https://arxiv.org/abs/2210.03347) by Kenton Lee, Mandar Joshi, Iulia Turc, Hexiang Hu, Fangyu Liu, Julian Eisenschlos, Urvashi Khandelwal, Peter Shaw, Ming-Wei Chang, Kristina Toutanova.\\n1. **[PLBart](https://huggingface.co/docs/transformers/model_doc/plbart)** (from UCLA NLP) released with the paper [Unified Pre-training for Program Understanding and Generation](https://arxiv.org/abs/2103.06333) by Wasi Uddin Ahmad, Saikat Chakraborty, Baishakhi Ray, Kai-Wei Chang.\\n1. **[PoolFormer](https://huggingface.co/docs/transformers/model_doc/poolformer)** (from Sea AI Labs) released with the paper [MetaFormer is Actually What You Need for Vision](https://arxiv.org/abs/2111.11418) by Yu, Weihao and Luo, Mi and Zhou, Pan and Si, Chenyang and Zhou, Yichen and Wang, Xinchao and Feng, Jiashi and Yan, Shuicheng.\\n1. **[Pop2Piano](https://huggingface.co/docs/transformers/model_doc/pop2piano)** released with the paper [Pop2Piano : Pop Audio-based Piano Cover Generation](https://arxiv.org/abs/2211.00895) by Jongho Choi and Kyogu Lee.\\n1. **[ProphetNet](https://huggingface.co/docs/transformers/model_doc/prophetnet)** (from Microsoft Research) released with the paper [ProphetNet: Predicting Future N-gram for Sequence-to-Sequence Pre-training](https://arxiv.org/abs/2001.04063) by Yu Yan, Weizhen Qi, Yeyun Gong, Dayiheng Liu, Nan Duan, Jiusheng Chen, Ruofei Zhang and Ming Zhou.\\n1. **[PVT](https://huggingface.co/docs/transformers/model_doc/pvt)** (from Nanjing\n",
      "\n",
      "(from HuggingFace), released together with the paper [DistilBERT, a distilled version of BERT: smaller, faster, cheaper and lighter](https://arxiv.org/abs/1910.01108) by Victor Sanh, Lysandre Debut and Thomas Wolf. The same method has been applied to compress GPT2 into [DistilGPT2](https://github.com/huggingface/transformers/tree/main/examples/research_projects/distillation), RoBERTa into [DistilRoBERTa](https://github.com/huggingface/transformers/tree/main/examples/research_projects/distillation), Multilingual BERT into [DistilmBERT](https://github.com/huggingface/transformers/tree/main/examples/research_projects/distillation) and a German version of DistilBERT.\\n1. **[DiT](https://huggingface.co/docs/transformers/model_doc/dit)** (from Microsoft Research) released with the paper [DiT: Self-supervised Pre-training for Document Image Transformer](https://arxiv.org/abs/2203.02378) by Junlong Li, Yiheng Xu, Tengchao Lv, Lei Cui, Cha Zhang, Furu Wei.\\n1. **[Donut](https://huggingface.co/docs/transformers/model_doc/donut)** (from NAVER), released together with the paper [OCR-free Document Understanding Transformer](https://arxiv.org/abs/2111.15664) by Geewook Kim, Teakgyu Hong, Moonbin Yim, Jeongyeon Nam, Jinyoung Park, Jinyeong Yim, Wonseok Hwang, Sangdoo Yun, Dongyoon Han, Seunghyun Park.\\n1. **[DPR](https://huggingface.co/docs/transformers/model_doc/dpr)** (from Facebook) released with the paper [Dense Passage Retrieval for Open-Domain Question Answering](https://arxiv.org/abs/2004.04906) by Vladimir Karpukhin, Barlas O\\u011fuz, Sewon Min, Patrick Lewis, Ledell Wu, Sergey Edunov, Danqi Chen, and Wen-tau Yih.\\n1. **[DPT](https://huggingface.co/docs/transformers/master/model_doc/dpt)** (from Intel Labs) released with the paper [Vision Transformers for Dense Prediction](https://arxiv.org/abs/2103.13413) by Ren\\u00e9 Ranftl, Alexey Bochkovskiy, Vladlen Koltun.\\n1. **[EfficientFormer](https://huggingface.co/docs/transformers/model_doc/efficientformer)** (from Snap Research) released with the paper [EfficientFormer: Vision Transformers at MobileNetSpeed](https://arxiv.org/abs/2206.01191) by Yanyu\n",
      "\n",
      "Aakanksha Chowdhery, Sharan Narang, Gaurav Mishra, Adams Yu, Vincent Zhao, Yanping Huang, Andrew Dai, Hongkun Yu, Slav Petrov, Ed H. Chi, Jeff Dean, Jacob Devlin, Adam Roberts, Denny Zhou, Quoc V. Le, and Jason Wei\\n1. **[FLAN-UL2](https://huggingface.co/docs/transformers/model_doc/flan-ul2)** (from Google AI) released in the repository [google-research/t5x](https://github.com/google-research/t5x/blob/main/docs/models.md#flan-ul2-checkpoints) by Hyung Won Chung, Le Hou, Shayne Longpre, Barret Zoph, Yi Tay, William Fedus, Eric Li, Xuezhi Wang, Mostafa Dehghani, Siddhartha Brahma, Albert Webson, Shixiang Shane Gu, Zhuyun Dai, Mirac Suzgun, Xinyun Chen, Aakanksha Chowdhery, Sharan Narang, Gaurav Mishra, Adams Yu, Vincent Zhao, Yanping Huang, Andrew Dai, Hongkun Yu, Slav Petrov, Ed H. Chi, Jeff Dean, Jacob Devlin, Adam Roberts, Denny Zhou, Quoc V. Le, and Jason Wei\\n1. **[FlauBERT](https://huggingface.co/docs/transformers/model_doc/flaubert)** (from CNRS) released with the paper [FlauBERT: Unsupervised Language Model Pre-training for French](https://arxiv.org/abs/1912.05372) by Hang Le, Lo\\u00efc Vial, Jibril Frej, Vincent Segonne, Maximin Coavoux, Benjamin Lecouteux, Alexandre Allauzen, Beno\\u00eet Crabb\\u00e9, Laurent Besacier, Didier Schwab.\\n1. **[FLAVA](https://huggingface.co/docs/transformers/model_doc/flava)** (from Facebook AI) released with the paper [FLAVA: A Foundational Language And Vision Alignment Model](https://arxiv.org/abs/2112.04482) by Amanpreet Singh, Ronghang Hu, Vedanuj Goswami, Guillaume Couairon, Wojciech Galuba, Marcus Rohrbach, and Douwe Kiela.\\n1. **[FNet](https://huggingface.co/docs/transformers/model_doc/fnet)** (from Google Research) released with the paper [FNet: Mixing Tokens with Fourier Transforms](https://arxiv.org/abs/2105.03824) by James Lee-Thorp, Joshua Ainslie, Ilya Eckstein, Santiago Ontanon.\\n1. **[FocalNet](https://huggingface.co/docs/transformers/model_doc/focalnet)** (from Microsoft Research) released with the paper [Focal Modulation\n",
      "\n",
      "Jude Fernandes, Jeremy Fu, Wenyin Fu, Brian Fuller, Cynthia Gao, Vedanuj Goswami, Naman Goyal, Anthony Hartshorn, Saghar Hosseini, Rui Hou, Hakan Inan, Marcin Kardas, Viktor Kerkez Madian Khabsa, Isabel Kloumann, Artem Korenev, Punit Singh Koura, Marie-Anne Lachaux, Thibaut Lavril, Jenya Lee, Diana Liskovich, Yinghai Lu, Yuning Mao, Xavier Martinet, Todor Mihaylov, Pushka rMishra, Igor Molybog, Yixin Nie, Andrew Poulton, Jeremy Reizenstein, Rashi Rungta, Kalyan Saladi, Alan Schelten, Ruan Silva, Eric Michael Smith, Ranjan Subramanian, Xiaoqing EllenTan, Binh Tang, Ross Taylor, Adina Williams, Jian Xiang Kuan, Puxin Xu, Zheng Yan, Iliyan Zarov, Yuchen Zhang, Angela Fan, Melanie Kambadur, Sharan Narang, Aurelien Rodriguez, Robert Stojnic, Sergey Edunov, Thomas Scialom.\\n1. **[Longformer](https://huggingface.co/docs/transformers/model_doc/longformer)** (from AllenAI) released with the paper [Longformer: The Long-Document Transformer](https://arxiv.org/abs/2004.05150) by Iz Beltagy, Matthew E. Peters, Arman Cohan.\\n1. **[LongT5](https://huggingface.co/docs/transformers/model_doc/longt5)** (from Google AI) released with the paper [LongT5: Efficient Text-To-Text Transformer for Long Sequences](https://arxiv.org/abs/2112.07916) by Mandy Guo, Joshua Ainslie, David Uthus, Santiago Ontanon, Jianmo Ni, Yun-Hsuan Sung, Yinfei Yang.\\n1. **[LUKE](https://huggingface.co/docs/transformers/model_doc/luke)** (from Studio Ousia) released with the paper [LUKE: Deep Contextualized Entity Representations with Entity-aware Self-attention](https://arxiv.org/abs/2010.01057) by Ikuya Yamada, Akari Asai, Hiroyuki Shindo, Hideaki Takeda, Yuji Matsumoto.\\n1. **[LXMERT](https://huggingface.co/docs/transformers/model_doc/lxmert)** (from UNC Chapel Hill) released with the paper [LXMERT: Learning Cross-Modality Encoder Representations from Transformers for Open-Domain Question Answering](https://arxiv.org/abs/1908.07490) by Hao Tan and Mohit Bansal.\\n1. **[M-CTC-T](https://huggingface.co/docs/transformers/model_doc/mctct)** (from Facebook) released with the paper\n",
      "==================================\u001b[1m Ai Message \u001b[0m==================================\n",
      "\n",
      "<think>\n",
      "\n",
      "</think>\n",
      "\n",
      "Thought: The information retrieved mentions that PhoBERT is a pre-trained language model for Vietnamese developed by VinAI Research, as described in the paper \"PhoBERT: Pre-trained language models for Vietnamese\" by Dat Quoc Nguyen and Anh Tuan Nguyen. However, it does not mention any variants of PhoBERT. I will use the retriever_transformer tool to search for more detailed information about PhoBERT and its variants.\n",
      "Tool Calls:\n",
      "  retriever_transformer (chatcmpl-tool-df2c1bbb0170486da953bff466d19bd0)\n",
      " Call ID: chatcmpl-tool-df2c1bbb0170486da953bff466d19bd0\n",
      "  Args:\n",
      "    query: PhoBERT model, variants of PhoBERT\n",
      "=================================\u001b[1m Tool Message \u001b[0m=================================\n",
      "Name: retriever_transformer\n",
      "\n",
      "|       \\u2705        |         \\u2705         |      \\u2705      |\\n\\n|                     [PEGASUS-X](model_doc/pegasus_x)                     |       \\u2705        |         \\u274c         |      \\u274c      |\\n\\n|                     [Perceiver](model_doc/perceiver)                     |       \\u2705        |         \\u274c         |      \\u274c      |\\n\\n|                     [Persimmon](model_doc/persimmon)                     |       \\u2705        |         \\u274c         |      \\u274c      |\\n\\n|                           [Phi](model_doc/phi)                           |       \\u2705        |         \\u274c         |      \\u274c      |\\n\\n|                       [PhoBERT](model_doc/phobert)                       |       \\u2705        |         \\u2705         |      \\u2705      |\\n\\n|                    [Pix2Struct](model_doc/pix2struct)\n",
      "\n",
      "[Longformer](model_doc/longformer)                    |       \\u2705        |         \\u2705         |      \\u274c      |\\n\\n|                        [LongT5](model_doc/longt5)                        |       \\u2705        |         \\u274c         |      \\u2705      |\\n\\n|                          [LUKE](model_doc/luke)                          |       \\u2705        |         \\u274c         |      \\u274c      |\\n\\n|                        [LXMERT](model_doc/lxmert)                        |       \\u2705        |         \\u2705         |      \\u274c      |\\n\\n|                        [M-CTC-T](model_doc/mctct)                        |       \\u2705        |         \\u274c         |      \\u274c      |\\n\\n|                       [M2M100](model_doc/m2m_100)                        |       \\u2705        |         \\u274c         |\n",
      "\n",
      "|\\n\\n|                    [Pix2Struct](model_doc/pix2struct)                    |       \\u2705        |         \\u274c         |      \\u274c      |\\n\\n|                        [PLBart](model_doc/plbart)                        |       \\u2705        |         \\u274c         |      \\u274c      |\\n\\n|                    [PoolFormer](model_doc/poolformer)                    |       \\u2705        |         \\u274c         |      \\u274c      |\\n\\n|                     [Pop2Piano](model_doc/pop2piano)                     |       \\u2705        |         \\u274c         |      \\u274c      |\\n\\n|                    [ProphetNet](model_doc/prophetnet)                    |       \\u2705        |         \\u274c         |      \\u274c      |\\n\\n|                           [PVT](model_doc/pvt)                           |       \\u2705        |         \\u274c         |      \\u274c      |\\n\\n|\n",
      "\n",
      "|       \\u2705        |         \\u2705         |      \\u274c      |\\n\\n|                        [BLIP-2](model_doc/blip-2)                        |       \\u2705        |         \\u274c         |      \\u274c      |\\n\\n|                         [BLOOM](model_doc/bloom)                         |       \\u2705        |         \\u274c         |      \\u2705      |\\n\\n|                          [BORT](model_doc/bort)                          |       \\u2705        |         \\u2705         |      \\u2705      |\\n\\n|                   [BridgeTower](model_doc/bridgetower)                   |       \\u2705        |         \\u274c         |      \\u274c      |\\n\\n|                          [BROS](model_doc/bros)                          |       \\u2705        |         \\u274c         |      \\u274c      |\\n\\n|                          [ByT5](model_doc/byt5)\n",
      "==================================\u001b[1m Ai Message \u001b[0m==================================\n",
      "\n",
      "<think>\n",
      "\n",
      "</think>\n",
      "\n",
      "Thought: The information retrieved confirms that PhoBERT is a pre-trained language model for Vietnamese developed by VinAI Research. However, there is no mention of any variants of PhoBERT in the provided information. I will use the tavily_search tool to search for more detailed information about PhoBERT and its variants.\n",
      "Tool Calls:\n",
      "  tavily_search (chatcmpl-tool-9b7a0f16b467490bb46cb88c82c8a18e)\n",
      " Call ID: chatcmpl-tool-9b7a0f16b467490bb46cb88c82c8a18e\n",
      "  Args:\n",
      "    query: PhoBERT model, variants of PhoBERT\n",
      "    search_depth: advanced\n",
      "=================================\u001b[1m Tool Message \u001b[0m=================================\n",
      "Name: tavily_search\n",
      "\n",
      "{\"query\": \"PhoBERT model, variants of PhoBERT\", \"follow_up_questions\": null, \"answer\": null, \"images\": [], \"results\": [{\"url\": \"https://huggingface.co/docs/transformers/en/model_doc/phobert\", \"title\": \"PhoBERT - Hugging Face\", \"content\": \"We present PhoBERT with two versions, PhoBERT-base and PhoBERT-large, the first public large-scale monolingual\\nlanguage models pre-trained for Vietnamese. Experimental results show that PhoBERT consistently outperforms the recent\\nbest pre-trained multilingual model XLM-R (Conneau et al., 2020) and improves the state-of-the-art in multiple\\nVietnamese-specific NLP tasks including Part-of-speech tagging, Dependency parsing, Named-entity recognition and\\nNatural language inference.\", \"score\": 0.8266142, \"raw_content\": null}], \"response_time\": 2.27}\n",
      "==================================\u001b[1m Ai Message \u001b[0m==================================\n",
      "\n",
      "<think>\n",
      "\n",
      "</think>\n",
      "\n",
      "Thought: The search result indicates that PhoBERT has two versions: PhoBERT-base and PhoBERT-large. These are the first public large-scale monolingual language models pre-trained for Vietnamese. They outperform the XLM-R model and improve the state-of-the-art in various Vietnamese-specific NLP tasks.\n",
      "\n",
      "Final Answer: PhoBERT is a pre-trained language model for Vietnamese developed by VinAI Research. It has two versions: PhoBERT-base and PhoBERT-large. These models outperform the recent best pre-trained multilingual model XLM-R and improve the state-of-the-art in multiple Vietnamese-specific NLP tasks such as Part-of-speech tagging, Dependency parsing, Named-entity recognition, and Natural language inference.\n"
     ]
    }
   ],
   "source": [
    "run_agent(\"What is PhoBERT ? Who is behind that model, is there any variant of PhoBERT ?\", is_thinking=False)"
   ]
  }
 ],
 "metadata": {
  "kernelspec": {
   "display_name": "general-env",
   "language": "python",
   "name": "python3"
  },
  "language_info": {
   "codemirror_mode": {
    "name": "ipython",
    "version": 3
   },
   "file_extension": ".py",
   "mimetype": "text/x-python",
   "name": "python",
   "nbconvert_exporter": "python",
   "pygments_lexer": "ipython3",
   "version": "3.10.16"
  }
 },
 "nbformat": 4,
 "nbformat_minor": 5
}
